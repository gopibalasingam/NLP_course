{
 "cells": [
  {
   "cell_type": "markdown",
   "metadata": {
    "id": "1x906-fBJSYi"
   },
   "source": [
    "### Kiva Loan Default Prediction\n"
   ]
  },
  {
   "cell_type": "code",
   "execution_count": null,
   "metadata": {},
   "outputs": [],
   "source": []
  },
  {
   "cell_type": "code",
   "execution_count": 1,
   "metadata": {
    "colab": {
     "base_uri": "https://localhost:8080/"
    },
    "executionInfo": {
     "elapsed": 2736,
     "status": "ok",
     "timestamp": 1617993812617,
     "user": {
      "displayName": "Dhanya Dave",
      "photoUrl": "",
      "userId": "06967402246046115679"
     },
     "user_tz": 240
    },
    "id": "3e71FaJsk_45",
    "outputId": "e5588b7d-c244-4530-a649-36d413131b98"
   },
   "outputs": [
    {
     "name": "stdout",
     "output_type": "stream",
     "text": [
      "Requirement already satisfied: transformers in /Users/balasigo/tensorflow/lib/python3.8/site-packages (4.5.0)\n",
      "Requirement already satisfied: matplotlib in /Users/balasigo/tensorflow/lib/python3.8/site-packages (3.4.1)\n",
      "Requirement already satisfied: cycler>=0.10 in /Users/balasigo/tensorflow/lib/python3.8/site-packages (from matplotlib) (0.10.0)\n",
      "Requirement already satisfied: kiwisolver>=1.0.1 in /Users/balasigo/tensorflow/lib/python3.8/site-packages (from matplotlib) (1.3.1)\n",
      "Requirement already satisfied: python-dateutil>=2.7 in /Users/balasigo/tensorflow/lib/python3.8/site-packages (from matplotlib) (2.8.1)\n",
      "Requirement already satisfied: pillow>=6.2.0 in /Users/balasigo/tensorflow/lib/python3.8/site-packages (from matplotlib) (8.2.0)\n",
      "Requirement already satisfied: pyparsing>=2.2.1 in /Users/balasigo/tensorflow/lib/python3.8/site-packages (from matplotlib) (2.4.7)\n",
      "Requirement already satisfied: numpy>=1.16 in /Users/balasigo/tensorflow/lib/python3.8/site-packages (from matplotlib) (1.19.5)\n",
      "Requirement already satisfied: six in /Users/balasigo/tensorflow/lib/python3.8/site-packages (from cycler>=0.10->matplotlib) (1.15.0)\n",
      "Requirement already satisfied: filelock in /Users/balasigo/tensorflow/lib/python3.8/site-packages (from transformers) (3.0.12)\n",
      "Requirement already satisfied: requests in /Users/balasigo/tensorflow/lib/python3.8/site-packages (from transformers) (2.25.1)\n",
      "Requirement already satisfied: packaging in /Users/balasigo/tensorflow/lib/python3.8/site-packages (from transformers) (20.9)\n",
      "Requirement already satisfied: tokenizers<0.11,>=0.10.1 in /Users/balasigo/tensorflow/lib/python3.8/site-packages (from transformers) (0.10.2)\n",
      "Requirement already satisfied: tqdm>=4.27 in /Users/balasigo/tensorflow/lib/python3.8/site-packages (from transformers) (4.60.0)\n",
      "Requirement already satisfied: regex!=2019.12.17 in /Users/balasigo/tensorflow/lib/python3.8/site-packages (from transformers) (2021.4.4)\n",
      "Requirement already satisfied: sacremoses in /Users/balasigo/tensorflow/lib/python3.8/site-packages (from transformers) (0.0.44)\n",
      "Requirement already satisfied: chardet<5,>=3.0.2 in /Users/balasigo/tensorflow/lib/python3.8/site-packages (from requests->transformers) (4.0.0)\n",
      "Requirement already satisfied: urllib3<1.27,>=1.21.1 in /Users/balasigo/tensorflow/lib/python3.8/site-packages (from requests->transformers) (1.26.4)\n",
      "Requirement already satisfied: certifi>=2017.4.17 in /Users/balasigo/tensorflow/lib/python3.8/site-packages (from requests->transformers) (2020.12.5)\n",
      "Requirement already satisfied: idna<3,>=2.5 in /Users/balasigo/tensorflow/lib/python3.8/site-packages (from requests->transformers) (2.10)\n",
      "Requirement already satisfied: joblib in /Users/balasigo/tensorflow/lib/python3.8/site-packages (from sacremoses->transformers) (1.0.1)\n",
      "Requirement already satisfied: click in /Users/balasigo/tensorflow/lib/python3.8/site-packages (from sacremoses->transformers) (7.1.2)\n"
     ]
    }
   ],
   "source": [
    "!pip install transformers matplotlib"
   ]
  },
  {
   "cell_type": "code",
   "execution_count": 2,
   "metadata": {
    "executionInfo": {
     "elapsed": 5511,
     "status": "ok",
     "timestamp": 1617993815399,
     "user": {
      "displayName": "Dhanya Dave",
      "photoUrl": "",
      "userId": "06967402246046115679"
     },
     "user_tz": 240
    },
    "id": "hZj4c0xTeMwH"
   },
   "outputs": [],
   "source": [
    "import matplotlib.pyplot as plt\n",
    "import tensorflow.keras as keras\n",
    "import pandas as pd\n",
    "\n",
    "from transformers import DistilBertTokenizer, TFDistilBertModel\n",
    "\n",
    "import numpy as np\n",
    "import tensorflow as tf\n",
    "import tensorflow.keras as keras\n",
    "from tensorflow.keras.layers import Dense, Input, Dropout\n",
    "from sklearn.model_selection import train_test_split\n",
    "from sklearn.metrics import classification_report\n",
    "\n",
    "\n",
    "dbert_tokenizer = DistilBertTokenizer.from_pretrained('distilbert-base-uncased')"
   ]
  },
  {
   "cell_type": "markdown",
   "metadata": {
    "id": "LfIsoKKAJ1nq"
   },
   "source": [
    "# Data Preparation\n",
    "\n",
    "## Clean the text and your targets\n",
    "Hints: \n",
    "\n",
    "3. These resources will help you understand what type of cleaning will be required and how you can encode your text for the network:\n",
    "    - a) Preprocessing: https://huggingface.co/transformers/preprocessing.html\n",
    "    - b) Summary of tokenizers (DistilBERT uses WordPiece): https://huggingface.co/transformers/tokenizer_summary.html#wordpiece\n",
    "4. Consider the text length, is this too big/small for DistilBERT? what impact would padding/truncation have?\n",
    "5. In load data you generated a profiling report of this dataset, might be helpful to review that as well"
   ]
  },
  {
   "cell_type": "code",
   "execution_count": 3,
   "metadata": {
    "colab": {
     "base_uri": "https://localhost:8080/",
     "height": 347
    },
    "executionInfo": {
     "elapsed": 6762,
     "status": "ok",
     "timestamp": 1617993816655,
     "user": {
      "displayName": "Dhanya Dave",
      "photoUrl": "",
      "userId": "06967402246046115679"
     },
     "user_tz": 240
    },
    "id": "WeupgVE3lTJP",
    "outputId": "ed6d17dd-25b6-4113-afac-cfc1ac3210e5"
   },
   "outputs": [
    {
     "data": {
      "text/html": [
       "<div>\n",
       "<style scoped>\n",
       "    .dataframe tbody tr th:only-of-type {\n",
       "        vertical-align: middle;\n",
       "    }\n",
       "\n",
       "    .dataframe tbody tr th {\n",
       "        vertical-align: top;\n",
       "    }\n",
       "\n",
       "    .dataframe thead th {\n",
       "        text-align: right;\n",
       "    }\n",
       "</style>\n",
       "<table border=\"1\" class=\"dataframe\">\n",
       "  <thead>\n",
       "    <tr style=\"text-align: right;\">\n",
       "      <th></th>\n",
       "      <th>loan_id</th>\n",
       "      <th>en_clean</th>\n",
       "      <th>defaulted</th>\n",
       "    </tr>\n",
       "  </thead>\n",
       "  <tbody>\n",
       "    <tr>\n",
       "      <th>0</th>\n",
       "      <td>7779</td>\n",
       "      <td>She opened a colmado out of the side of her ho...</td>\n",
       "      <td>0</td>\n",
       "    </tr>\n",
       "    <tr>\n",
       "      <th>1</th>\n",
       "      <td>2777</td>\n",
       "      <td>(First Loan):  Joffre continues to run his loc...</td>\n",
       "      <td>1</td>\n",
       "    </tr>\n",
       "    <tr>\n",
       "      <th>2</th>\n",
       "      <td>6007</td>\n",
       "      <td>Dina Santana is the mother of two children, Ju...</td>\n",
       "      <td>0</td>\n",
       "    </tr>\n",
       "    <tr>\n",
       "      <th>3</th>\n",
       "      <td>76</td>\n",
       "      <td>Rosemary is 50 years old, single, and has 6 ch...</td>\n",
       "      <td>1</td>\n",
       "    </tr>\n",
       "    <tr>\n",
       "      <th>4</th>\n",
       "      <td>4217</td>\n",
       "      <td>Segundo has a shop where he sells animal feed,...</td>\n",
       "      <td>0</td>\n",
       "    </tr>\n",
       "    <tr>\n",
       "      <th>5</th>\n",
       "      <td>5077</td>\n",
       "      <td>I am a single parent, mother of 4. I sell groc...</td>\n",
       "      <td>0</td>\n",
       "    </tr>\n",
       "    <tr>\n",
       "      <th>6</th>\n",
       "      <td>6033</td>\n",
       "      <td>Mariana Jose Serda owns a general store in Mag...</td>\n",
       "      <td>0</td>\n",
       "    </tr>\n",
       "    <tr>\n",
       "      <th>7</th>\n",
       "      <td>843</td>\n",
       "      <td>Mary is a mother of four children. One of the ...</td>\n",
       "      <td>1</td>\n",
       "    </tr>\n",
       "    <tr>\n",
       "      <th>8</th>\n",
       "      <td>4357</td>\n",
       "      <td>Wilson is seeking his second loan with Kiva an...</td>\n",
       "      <td>0</td>\n",
       "    </tr>\n",
       "    <tr>\n",
       "      <th>9</th>\n",
       "      <td>7007</td>\n",
       "      <td>Clara lives with her two children (ages: 20 an...</td>\n",
       "      <td>0</td>\n",
       "    </tr>\n",
       "  </tbody>\n",
       "</table>\n",
       "</div>"
      ],
      "text/plain": [
       "   loan_id                                           en_clean  defaulted\n",
       "0     7779  She opened a colmado out of the side of her ho...          0\n",
       "1     2777  (First Loan):  Joffre continues to run his loc...          1\n",
       "2     6007  Dina Santana is the mother of two children, Ju...          0\n",
       "3       76  Rosemary is 50 years old, single, and has 6 ch...          1\n",
       "4     4217  Segundo has a shop where he sells animal feed,...          0\n",
       "5     5077  I am a single parent, mother of 4. I sell groc...          0\n",
       "6     6033  Mariana Jose Serda owns a general store in Mag...          0\n",
       "7      843  Mary is a mother of four children. One of the ...          1\n",
       "8     4357  Wilson is seeking his second loan with Kiva an...          0\n",
       "9     7007  Clara lives with her two children (ages: 20 an...          0"
      ]
     },
     "execution_count": 3,
     "metadata": {},
     "output_type": "execute_result"
    }
   ],
   "source": [
    "#Creating the dataframes\n",
    "kiva_train = pd.read_csv('kiva_train.csv')\n",
    "kiva_test = pd.read_csv('kiva_test.csv')\n",
    "\n",
    "#Formatting kaggle dataframe to run in the predict function\n",
    "kaggle_test = kiva_test['en_clean']\n",
    "kaggle_test = kaggle_test.to_list()\n",
    "\n",
    "\n",
    "kiva_train.head(10)"
   ]
  },
  {
   "cell_type": "code",
   "execution_count": 24,
   "metadata": {
    "executionInfo": {
     "elapsed": 6759,
     "status": "ok",
     "timestamp": 1617993816656,
     "user": {
      "displayName": "Dhanya Dave",
      "photoUrl": "",
      "userId": "06967402246046115679"
     },
     "user_tz": 240
    },
    "id": "kUTuAPTCpSeo"
   },
   "outputs": [],
   "source": [
    "# Creating Training Data\n",
    "X = kiva_train['en_clean']\n",
    "y = kiva_train['defaulted']\n",
    "\n",
    "X_train, X_val, y_train, y_val = train_test_split(X, y, test_size=0.2, random_state=42)\n",
    "\n",
    "X_test = kaggle_test"
   ]
  },
  {
   "cell_type": "markdown",
   "metadata": {
    "id": "tuPUPR_SppLj"
   },
   "source": [
    "### Tokenization of Data"
   ]
  },
  {
   "cell_type": "code",
   "execution_count": 32,
   "metadata": {
    "executionInfo": {
     "elapsed": 6755,
     "status": "ok",
     "timestamp": 1617993816656,
     "user": {
      "displayName": "Dhanya Dave",
      "photoUrl": "",
      "userId": "06967402246046115679"
     },
     "user_tz": 240
    },
    "id": "U5uMmLw-pwmf"
   },
   "outputs": [],
   "source": [
    "def encode_text(text):\n",
    "    \n",
    "    print(type(text))\n",
    "    model_inputs_and_masks = dbert_tokenizer(\n",
    "        text.to_list(), \n",
    "        padding='max_length',\n",
    "        return_tensors=\"tf\",\n",
    "        truncation=True,\n",
    "        max_length=512\n",
    "    )\n",
    "    input_ids = model_inputs_and_masks['input_ids']\n",
    "    attention_mask = model_inputs_and_masks['attention_mask']\n",
    "\n",
    "    return input_ids, attention_mask\n",
    "\n",
    "def prepare_target(raw_y):\n",
    "    # 0 = \"non-default\"\n",
    "    # 1 = \"default\"\n",
    "    y = keras.utils.to_categorical(raw_y)\n",
    "    y = np.array(y)\n",
    "    return y\n",
    "\n"
   ]
  },
  {
   "cell_type": "code",
   "execution_count": 35,
   "metadata": {
    "executionInfo": {
     "elapsed": 29447,
     "status": "ok",
     "timestamp": 1617993839355,
     "user": {
      "displayName": "Dhanya Dave",
      "photoUrl": "",
      "userId": "06967402246046115679"
     },
     "user_tz": 240
    },
    "id": "T1_3bUHbqam_"
   },
   "outputs": [
    {
     "name": "stdout",
     "output_type": "stream",
     "text": [
      "<class 'pandas.core.series.Series'>\n",
      "<class 'pandas.core.series.Series'>\n"
     ]
    }
   ],
   "source": [
    "#Creating Data for distilBert\n",
    "\n",
    "train_input, train_mask = encode_text(X_train)\n",
    "train_y = y_train #prepare_target(y_train)\n",
    "\n",
    "val_input, val_mask = encode_text(X_val)\n",
    "val_y = y_val #prepare_target(y_val)\n",
    "\n",
    "\n",
    "train_model_inputs_and_masks = {\n",
    "    'inputs' : train_input,\n",
    "    'masks' : train_mask\n",
    "}\n",
    "\n",
    "val_model_inputs_and_masks = {\n",
    "    'inputs' : val_input,\n",
    "    'masks' : val_mask\n",
    "}\n"
   ]
  },
  {
   "cell_type": "markdown",
   "metadata": {
    "id": "i2USajN2MWjn"
   },
   "source": [
    "# Modelling\n",
    "\n",
    "Resources:\n",
    "- DistilBERT paper: https://arxiv.org/abs/1910.01108\n",
    "- DistilBERT Tensorflow Documentation: https://huggingface.co/transformers/model_doc/distilbert.html#tfdistilbertmodel"
   ]
  },
  {
   "cell_type": "code",
   "execution_count": null,
   "metadata": {
    "executionInfo": {
     "elapsed": 647,
     "status": "ok",
     "timestamp": 1617995768552,
     "user": {
      "displayName": "Dhanya Dave",
      "photoUrl": "",
      "userId": "06967402246046115679"
     },
     "user_tz": 240
    },
    "id": "GZfFboF85rIe"
   },
   "outputs": [],
   "source": [
    "def build_model(base_model, trainable=True, params={}):\n",
    "    \n",
    "    max_seq_len = params[\"max_seq_len\"]\n",
    "    inputs = Input(shape = (max_seq_len,), dtype='int64', name='inputs')\n",
    "    masks  = Input(shape = (max_seq_len,), dtype='int64', name='masks')\n",
    "\n",
    "    base_model.trainable = trainable\n",
    "\n",
    "    dbert_output = base_model.distilbert(inputs, attention_mask=masks)\n",
    "    dbert_last_hidden_state = dbert_output.last_hidden_state\n",
    "\n",
    "    # Any additional layers should go here\n",
    "    # use the 'params' as a dictionary for hyper parameter to facilitate experimentation\n",
    "    dbert_cls_output = dbert_last_hidden_state[:,0,:]\n",
    "    # two fully connected layers with dropout. This can be tweaked\n",
    "    # x = Dense(params[\"layer_width1\"], activation='relu')(dbert_cls_output)\n",
    "    # x = Dropout(params[\"dropout1\"])(x)\n",
    "    # x = Dense(params[\"layer_width2\"], activation='relu')(x)\n",
    "    # x = Dropout(params[\"dropout2\"])(x)\n",
    "\n",
    "    probs = Dense(1, activation='sigmoid')(dbert_cls_output)\n",
    "\n",
    "    model = keras.Model(inputs=[inputs, masks], outputs=probs)\n",
    "    model.summary()\n",
    "    return model\n",
    "\n"
   ]
  },
  {
   "cell_type": "code",
   "execution_count": null,
   "metadata": {
    "executionInfo": {
     "elapsed": 283,
     "status": "ok",
     "timestamp": 1617995770169,
     "user": {
      "displayName": "Dhanya Dave",
      "photoUrl": "",
      "userId": "06967402246046115679"
     },
     "user_tz": 240
    },
    "id": "xQwmE3gvCAC8"
   },
   "outputs": [],
   "source": [
    "def compile_model(model):\n",
    "    # TODO: compile the model, include relevant auc metrics when training\n",
    "    # DO NOT CHANGE THE INPUTS OR OUTPUTS TO THIS FUNCTION\n",
    "    # Hint: you may want to read up on the \"multi_label\" parameter in the keras AUC metrics\n",
    "    model.compile(\n",
    "        loss=keras.losses.BinaryCrossentropy(),\n",
    "        optimizer=keras.optimizers.Adam(learning_rate=4e-5),\n",
    "        metrics=[\n",
    "            'accuracy', \n",
    "            keras.metrics.Precision(),\n",
    "            keras.metrics.Recall()\n",
    "        ]\n",
    "    )\n",
    "    \n",
    "    return model"
   ]
  },
  {
   "cell_type": "code",
   "execution_count": 44,
   "metadata": {
    "executionInfo": {
     "elapsed": 665,
     "status": "ok",
     "timestamp": 1617995771945,
     "user": {
      "displayName": "Dhanya Dave",
      "photoUrl": "",
      "userId": "06967402246046115679"
     },
     "user_tz": 240
    },
    "id": "j9Gc9ajwC3UO"
   },
   "outputs": [],
   "source": [
    "def train_model(model, model_inputs_and_masks_train, model_inputs_and_masks_val, y_train, y_val, batch_size, num_epochs):\n",
    "    \n",
    "    es = keras.callbacks.EarlyStopping(\n",
    "        monitor=\"loss\", \n",
    "        mode='min', \n",
    "        verbose=1,\n",
    "        patience=2\n",
    "    )\n",
    "    \n",
    "    history = model.fit(model_inputs_and_masks_train, y_train, batch_size=batch_size, epochs=num_epochs,verbose=1, callbacks=[es], steps_per_epoch=3)\n",
    "    return model, history"
   ]
  },
  {
   "cell_type": "markdown",
   "metadata": {
    "id": "Qg_oKZr5VoCU"
   },
   "source": [
    "# Execution\n",
    "\n"
   ]
  },
  {
   "cell_type": "markdown",
   "metadata": {
    "id": "0e6WD5qyWkcm"
   },
   "source": [
    "\n",
    "Use the cell below to execute and experiment with your model"
   ]
  },
  {
   "cell_type": "code",
   "execution_count": null,
   "metadata": {
    "colab": {
     "base_uri": "https://localhost:8080/"
    },
    "executionInfo": {
     "elapsed": 1128882,
     "status": "ok",
     "timestamp": 1617996909054,
     "user": {
      "displayName": "Dhanya Dave",
      "photoUrl": "",
      "userId": "06967402246046115679"
     },
     "user_tz": 240
    },
    "id": "eYjCiyY-WiNY",
    "outputId": "ee32c873-99a2-484d-fcd6-0a0c2a4c7505"
   },
   "outputs": [],
   "source": [
    "dbert_model = TFDistilBertModel.from_pretrained('distilbert-base-uncased')\n",
    "\n",
    "params={\"max_seq_len\" : train_input.shape[1],\n",
    "        \"layer_width1\" : 64,\n",
    "        \"dropout1\" : 0.2,\n",
    "        \"layer_width2\" : 32,\n",
    "        \"dropout2\" : 0.2}\n",
    "\n",
    "model = build_model(dbert_model, params=params)\n",
    "model = compile_model(model)\n",
    "model, history = train_model(model, train_model_inputs_and_masks, val_model_inputs_and_masks, train_y, val_y, batch_size=20, num_epochs=10)\n"
   ]
  },
  {
   "cell_type": "code",
   "execution_count": 40,
   "metadata": {},
   "outputs": [
    {
     "name": "stdout",
     "output_type": "stream",
     "text": [
      "WARNING:tensorflow:The parameters `output_attentions`, `output_hidden_states` and `use_cache` cannot be updated when calling a model.They have to be set to True/False in the config object (i.e.: `config=XConfig.from_pretrained('name', output_attentions=True)`).\n",
      "WARNING:tensorflow:The parameter `return_dict` cannot be set in graph mode and will always be set to `True`.\n",
      "WARNING:tensorflow:The parameters `output_attentions`, `output_hidden_states` and `use_cache` cannot be updated when calling a model.They have to be set to True/False in the config object (i.e.: `config=XConfig.from_pretrained('name', output_attentions=True)`).\n",
      "WARNING:tensorflow:The parameter `return_dict` cannot be set in graph mode and will always be set to `True`.\n"
     ]
    },
    {
     "name": "stderr",
     "output_type": "stream",
     "text": [
      "Some layers from the model checkpoint at xlnet-base-cased were not used when initializing TFXLNetModel: ['lm_loss']\n",
      "- This IS expected if you are initializing TFXLNetModel from the checkpoint of a model trained on another task or with another architecture (e.g. initializing a BertForSequenceClassification model from a BertForPreTraining model).\n",
      "- This IS NOT expected if you are initializing TFXLNetModel from the checkpoint of a model that you expect to be exactly identical (initializing a BertForSequenceClassification model from a BertForSequenceClassification model).\n",
      "All the layers of TFXLNetModel were initialized from the model checkpoint at xlnet-base-cased.\n",
      "If your task is similar to the task the model of the checkpoint was trained on, you can already use TFXLNetModel for predictions without further training.\n"
     ]
    },
    {
     "ename": "NameError",
     "evalue": "name 'build_model' is not defined",
     "output_type": "error",
     "traceback": [
      "\u001b[0;31m---------------------------------------------------------------------------\u001b[0m",
      "\u001b[0;31mNameError\u001b[0m                                 Traceback (most recent call last)",
      "\u001b[0;32m<ipython-input-40-eb56c4c433a9>\u001b[0m in \u001b[0;36m<module>\u001b[0;34m\u001b[0m\n\u001b[1;32m      9\u001b[0m         \"dropout2\" : 0.2}\n\u001b[1;32m     10\u001b[0m \u001b[0;34m\u001b[0m\u001b[0m\n\u001b[0;32m---> 11\u001b[0;31m \u001b[0mmodel\u001b[0m \u001b[0;34m=\u001b[0m \u001b[0mbuild_model\u001b[0m\u001b[0;34m(\u001b[0m\u001b[0mxlnetPretrainedModel\u001b[0m\u001b[0;34m,\u001b[0m \u001b[0mparams\u001b[0m\u001b[0;34m=\u001b[0m\u001b[0mparams\u001b[0m\u001b[0;34m)\u001b[0m\u001b[0;34m\u001b[0m\u001b[0;34m\u001b[0m\u001b[0m\n\u001b[0m\u001b[1;32m     12\u001b[0m \u001b[0mmodel\u001b[0m \u001b[0;34m=\u001b[0m \u001b[0mcompile_model\u001b[0m\u001b[0;34m(\u001b[0m\u001b[0mmodel\u001b[0m\u001b[0;34m)\u001b[0m\u001b[0;34m\u001b[0m\u001b[0;34m\u001b[0m\u001b[0m\n\u001b[1;32m     13\u001b[0m \u001b[0mmodel\u001b[0m\u001b[0;34m,\u001b[0m \u001b[0mhistory\u001b[0m \u001b[0;34m=\u001b[0m \u001b[0mtrain_model\u001b[0m\u001b[0;34m(\u001b[0m\u001b[0mmodel\u001b[0m\u001b[0;34m,\u001b[0m \u001b[0mtrain_model_inputs_and_masks\u001b[0m\u001b[0;34m,\u001b[0m \u001b[0mval_model_inputs_and_masks\u001b[0m\u001b[0;34m,\u001b[0m \u001b[0mtrain_y\u001b[0m\u001b[0;34m,\u001b[0m \u001b[0mval_y\u001b[0m\u001b[0;34m,\u001b[0m \u001b[0mbatch_size\u001b[0m\u001b[0;34m=\u001b[0m\u001b[0;36m20\u001b[0m\u001b[0;34m,\u001b[0m \u001b[0mnum_epochs\u001b[0m\u001b[0;34m=\u001b[0m\u001b[0;36m7\u001b[0m\u001b[0;34m,\u001b[0m \u001b[0mvalidation_steps\u001b[0m\u001b[0;34m=\u001b[0m\u001b[0;36m10\u001b[0m\u001b[0;34m,\u001b[0m \u001b[0msteps_per_epoch\u001b[0m\u001b[0;34m=\u001b[0m\u001b[0;36m3\u001b[0m \u001b[0;34m)\u001b[0m\u001b[0;34m\u001b[0m\u001b[0;34m\u001b[0m\u001b[0m\n",
      "\u001b[0;31mNameError\u001b[0m: name 'build_model' is not defined"
     ]
    }
   ],
   "source": [
    "from transformers import AutoTokenizer, TFAutoModel\n",
    "\n",
    "xlnetPretrainedModel = TFAutoModel.from_pretrained(\"xlnet-base-cased\")\n",
    "\n",
    "params={\"max_seq_len\" : train_input.shape[1],\n",
    "        \"layer_width1\" : 64,\n",
    "        \"dropout1\" : 0.2,\n",
    "        \"layer_width2\" : 32,\n",
    "        \"dropout2\" : 0.2}\n",
    "\n",
    "model = build_model(xlnetPretrainedModel, params=params)\n",
    "model = compile_model(model)\n",
    "model, history = train_model(model, train_model_inputs_and_masks, val_model_inputs_and_masks, train_y, val_y, batch_size=20, num_epochs=7)\n",
    "\n"
   ]
  },
  {
   "cell_type": "code",
   "execution_count": null,
   "metadata": {
    "colab": {
     "base_uri": "https://localhost:8080/"
    },
    "executionInfo": {
     "elapsed": 1232108,
     "status": "ok",
     "timestamp": 1617995042037,
     "user": {
      "displayName": "Dhanya Dave",
      "photoUrl": "",
      "userId": "06967402246046115679"
     },
     "user_tz": 240
    },
    "id": "27epgy3gpYxu",
    "outputId": "ad7f5dd4-5fda-455c-c8ce-1a2c7f2b80d1"
   },
   "outputs": [],
   "source": [
    "pred_df = pd.DataFrame(columns = ['preds'])\n",
    "\n",
    "def create_preds(text):\n",
    "\n",
    "    #Encode Text \n",
    "    inputs_and_masks = dbert_tokenizer(text, return_tensors=\"tf\",padding='max_length',truncation=True,max_length=512)\n",
    "\n",
    "    input_ids = inputs_and_masks['input_ids']\n",
    "    attention_mask = inputs_and_masks['attention_mask']\n",
    "    \n",
    "\n",
    "    # Creating dictionary for ids and masks\n",
    "    model_inputs_and_masks = {\n",
    "    'inputs' : input_ids,\n",
    "    'masks' : attention_mask \n",
    "    }\n",
    "\n",
    "    # Get prediction from model\n",
    "    prediction = model(model_inputs_and_masks, training=False)\n",
    "    \n",
    "    # # Store prediction\n",
    "    pred = np.array(prediction)\n",
    "\n",
    "    return pred\n",
    "\n",
    "#  \n",
    "pred_df = X_val.apply(create_preds)\n",
    "\n",
    "new_preds = pred_df.apply(lambda x: x.flatten())\n",
    "new_preds = new_preds.apply(lambda x: x.round())\n",
    "new_preds = new_preds.apply(lambda x: int(x))\n",
    "\n",
    "print(classification_report(y_val, new_preds))"
   ]
  },
  {
   "cell_type": "markdown",
   "metadata": {
    "id": "dtWdipDQ9KJ3"
   },
   "source": [
    "\n",
    "\n",
    "\n",
    "\n",
    "\n",
    "### Kaggle Prediction"
   ]
  },
  {
   "cell_type": "code",
   "execution_count": null,
   "metadata": {},
   "outputs": [],
   "source": [
    "kaggle_pred = pd.DataFrame(columns = ['preds'])\n",
    "kaggle_pred = kaggle_test.apply(create_preds)"
   ]
  },
  {
   "cell_type": "code",
   "execution_count": null,
   "metadata": {},
   "outputs": [],
   "source": [
    "\n",
    "new_preds = kaggle_pred.apply(lambda x: x.flatten())\n",
    "new_preds = new_preds.apply(lambda x: x.round())\n",
    "new_preds = new_preds.apply(lambda x: int(x))\n",
    "\n",
    "#Convert to dataframe\n",
    "kaggle_submission = pd.DataFrame(data = new_preds)\n",
    "\n",
    "print(kaggle_submission)\n",
    "\n",
    "#Add back in the loan IDs and format for Kaggle submission\n",
    "Team_Spadina_Submission = pd.DataFrame({'id': kiva_test['loan_id'], 'predicted': kaggle_submission['en_clean']})\n",
    "\n",
    "Team_Spadina_Submission.to_csv('Team_Spadina_Submission.csv')"
   ]
  },
  {
   "cell_type": "code",
   "execution_count": null,
   "metadata": {
    "colab": {
     "base_uri": "https://localhost:8080/"
    },
    "executionInfo": {
     "elapsed": 1249491,
     "status": "ok",
     "timestamp": 1617995059424,
     "user": {
      "displayName": "Dhanya Dave",
      "photoUrl": "",
      "userId": "06967402246046115679"
     },
     "user_tz": 240
    },
    "id": "U_A7bY-39KZS",
    "outputId": "433f4e57-8af5-443d-b924-b22c61cce911"
   },
   "outputs": [],
   "source": [
    "model.save('Model_Transformer2')"
   ]
  },
  {
   "cell_type": "code",
   "execution_count": 1,
   "metadata": {},
   "outputs": [],
   "source": [
    "import tensorflow.compat.v2 as tf\n",
    "\n",
    "tf.enable_v2_behavior()\n",
    "\n",
    "from tensorflow.python.framework.ops import disable_eager_execution\n",
    "disable_eager_execution()\n",
    "\n",
    "from tensorflow.python.compiler.mlcompute import mlcompute\n",
    "mlcompute.set_mlc_device(device_name='gpu')\n",
    "\n",
    "\n",
    "import matplotlib.pyplot as plt\n",
    "import tensorflow.keras as keras\n",
    "import pandas as pd\n",
    "\n",
    "\n",
    "import numpy as np\n",
    "import tensorflow.keras as keras\n",
    "from tensorflow.keras.layers import Dense, Input, Dropout\n",
    "from sklearn.model_selection import train_test_split\n",
    "from sklearn.metrics import classification_report\n",
    "\n",
    "from transformers import AutoTokenizer, TFAutoModel, DistilBertTokenizer\n"
   ]
  },
  {
   "cell_type": "code",
   "execution_count": 26,
   "metadata": {},
   "outputs": [],
   "source": [
    "dbert_tokenizer = DistilBertTokenizer.from_pretrained('distilbert-base-uncased')"
   ]
  },
  {
   "cell_type": "code",
   "execution_count": 43,
   "metadata": {},
   "outputs": [
    {
     "name": "stdout",
     "output_type": "stream",
     "text": [
      "WARNING:tensorflow:The parameters `output_attentions`, `output_hidden_states` and `use_cache` cannot be updated when calling a model.They have to be set to True/False in the config object (i.e.: `config=XConfig.from_pretrained('name', output_attentions=True)`).\n",
      "WARNING:tensorflow:The parameter `return_dict` cannot be set in graph mode and will always be set to `True`.\n",
      "WARNING:tensorflow:The parameters `output_attentions`, `output_hidden_states` and `use_cache` cannot be updated when calling a model.They have to be set to True/False in the config object (i.e.: `config=XConfig.from_pretrained('name', output_attentions=True)`).\n",
      "WARNING:tensorflow:The parameter `return_dict` cannot be set in graph mode and will always be set to `True`.\n"
     ]
    },
    {
     "name": "stderr",
     "output_type": "stream",
     "text": [
      "Some layers from the model checkpoint at xlnet-base-cased were not used when initializing TFXLNetModel: ['lm_loss']\n",
      "- This IS expected if you are initializing TFXLNetModel from the checkpoint of a model trained on another task or with another architecture (e.g. initializing a BertForSequenceClassification model from a BertForPreTraining model).\n",
      "- This IS NOT expected if you are initializing TFXLNetModel from the checkpoint of a model that you expect to be exactly identical (initializing a BertForSequenceClassification model from a BertForSequenceClassification model).\n",
      "All the layers of TFXLNetModel were initialized from the model checkpoint at xlnet-base-cased.\n",
      "If your task is similar to the task the model of the checkpoint was trained on, you can already use TFXLNetModel for predictions without further training.\n"
     ]
    },
    {
     "name": "stdout",
     "output_type": "stream",
     "text": [
      "WARNING:tensorflow:The parameters `output_attentions`, `output_hidden_states` and `use_cache` cannot be updated when calling a model.They have to be set to True/False in the config object (i.e.: `config=XConfig.from_pretrained('name', output_attentions=True)`).\n",
      "WARNING:tensorflow:The parameter `return_dict` cannot be set in graph mode and will always be set to `True`.\n",
      "WARNING:tensorflow:The parameters `output_attentions`, `output_hidden_states` and `use_cache` cannot be updated when calling a model.They have to be set to True/False in the config object (i.e.: `config=XConfig.from_pretrained('name', output_attentions=True)`).\n",
      "WARNING:tensorflow:The parameter `return_dict` cannot be set in graph mode and will always be set to `True`.\n",
      "Model: \"model_8\"\n",
      "__________________________________________________________________________________________________\n",
      "Layer (type)                    Output Shape         Param #     Connected to                     \n",
      "==================================================================================================\n",
      "inputs (InputLayer)             [(None, 512)]        0                                            \n",
      "__________________________________________________________________________________________________\n",
      "masks (InputLayer)              [(None, 512)]        0                                            \n",
      "__________________________________________________________________________________________________\n",
      "tfxl_net_model_9 (TFXLNetModel) multiple             116718336   inputs[0][0]                     \n",
      "                                                                 masks[0][0]                      \n",
      "__________________________________________________________________________________________________\n",
      "tf_op_layer_strided_slice_8 (Te [(None, 768)]        0           tfxl_net_model_9[0][0]           \n",
      "__________________________________________________________________________________________________\n",
      "dense_8 (Dense)                 (None, 1)            769         tf_op_layer_strided_slice_8[0][0]\n",
      "==================================================================================================\n",
      "Total params: 116,719,105\n",
      "Trainable params: 116,719,105\n",
      "Non-trainable params: 0\n",
      "__________________________________________________________________________________________________\n"
     ]
    },
    {
     "ename": "ValueError",
     "evalue": "`validation_steps` should not be specified if `validation_data` is None.",
     "output_type": "error",
     "traceback": [
      "\u001b[0;31m---------------------------------------------------------------------------\u001b[0m",
      "\u001b[0;31mValueError\u001b[0m                                Traceback (most recent call last)",
      "\u001b[0;32m<ipython-input-43-f64c2dec07d2>\u001b[0m in \u001b[0;36m<module>\u001b[0;34m\u001b[0m\n\u001b[1;32m     24\u001b[0m \u001b[0mmodel\u001b[0m\u001b[0;34m.\u001b[0m\u001b[0msummary\u001b[0m\u001b[0;34m(\u001b[0m\u001b[0;34m)\u001b[0m\u001b[0;34m\u001b[0m\u001b[0;34m\u001b[0m\u001b[0m\n\u001b[1;32m     25\u001b[0m \u001b[0;34m\u001b[0m\u001b[0m\n\u001b[0;32m---> 26\u001b[0;31m \u001b[0mmodel\u001b[0m\u001b[0;34m,\u001b[0m \u001b[0mhistory\u001b[0m \u001b[0;34m=\u001b[0m \u001b[0mtrain_model\u001b[0m\u001b[0;34m(\u001b[0m\u001b[0mmodel\u001b[0m\u001b[0;34m,\u001b[0m \u001b[0mtrain_model_inputs_and_masks\u001b[0m\u001b[0;34m,\u001b[0m \u001b[0mval_model_inputs_and_masks\u001b[0m\u001b[0;34m,\u001b[0m \u001b[0mtrain_y\u001b[0m\u001b[0;34m,\u001b[0m \u001b[0mval_y\u001b[0m\u001b[0;34m,\u001b[0m \u001b[0mbatch_size\u001b[0m\u001b[0;34m=\u001b[0m\u001b[0;36m20\u001b[0m\u001b[0;34m,\u001b[0m \u001b[0mnum_epochs\u001b[0m\u001b[0;34m=\u001b[0m\u001b[0;36m7\u001b[0m\u001b[0;34m)\u001b[0m\u001b[0;34m\u001b[0m\u001b[0;34m\u001b[0m\u001b[0m\n\u001b[0m",
      "\u001b[0;32m<ipython-input-41-bfe003a92717>\u001b[0m in \u001b[0;36mtrain_model\u001b[0;34m(model, model_inputs_and_masks_train, model_inputs_and_masks_val, y_train, y_val, batch_size, num_epochs)\u001b[0m\n\u001b[1;32m      8\u001b[0m     )\n\u001b[1;32m      9\u001b[0m \u001b[0;34m\u001b[0m\u001b[0m\n\u001b[0;32m---> 10\u001b[0;31m     \u001b[0mhistory\u001b[0m \u001b[0;34m=\u001b[0m \u001b[0mmodel\u001b[0m\u001b[0;34m.\u001b[0m\u001b[0mfit\u001b[0m\u001b[0;34m(\u001b[0m\u001b[0mmodel_inputs_and_masks_train\u001b[0m\u001b[0;34m,\u001b[0m \u001b[0my_train\u001b[0m\u001b[0;34m,\u001b[0m \u001b[0mbatch_size\u001b[0m\u001b[0;34m=\u001b[0m\u001b[0mbatch_size\u001b[0m\u001b[0;34m,\u001b[0m \u001b[0mepochs\u001b[0m\u001b[0;34m=\u001b[0m\u001b[0mnum_epochs\u001b[0m\u001b[0;34m,\u001b[0m\u001b[0mverbose\u001b[0m\u001b[0;34m=\u001b[0m\u001b[0;36m1\u001b[0m\u001b[0;34m,\u001b[0m \u001b[0mcallbacks\u001b[0m\u001b[0;34m=\u001b[0m\u001b[0;34m[\u001b[0m\u001b[0mes\u001b[0m\u001b[0;34m]\u001b[0m\u001b[0;34m,\u001b[0m \u001b[0mvalidation_steps\u001b[0m \u001b[0;34m=\u001b[0m \u001b[0;36m10\u001b[0m\u001b[0;34m,\u001b[0m \u001b[0msteps_per_epoch\u001b[0m\u001b[0;34m=\u001b[0m\u001b[0;36m3\u001b[0m\u001b[0;34m)\u001b[0m\u001b[0;34m\u001b[0m\u001b[0;34m\u001b[0m\u001b[0m\n\u001b[0m\u001b[1;32m     11\u001b[0m     \u001b[0;32mreturn\u001b[0m \u001b[0mmodel\u001b[0m\u001b[0;34m,\u001b[0m \u001b[0mhistory\u001b[0m\u001b[0;34m\u001b[0m\u001b[0;34m\u001b[0m\u001b[0m\n",
      "\u001b[0;32m~/tensorflow/lib/python3.8/site-packages/tensorflow/python/keras/engine/training_v1.py\u001b[0m in \u001b[0;36mfit\u001b[0;34m(self, x, y, batch_size, epochs, verbose, callbacks, validation_split, validation_data, shuffle, class_weight, sample_weight, initial_epoch, steps_per_epoch, validation_steps, validation_freq, max_queue_size, workers, use_multiprocessing, **kwargs)\u001b[0m\n\u001b[1;32m    787\u001b[0m \u001b[0;34m\u001b[0m\u001b[0m\n\u001b[1;32m    788\u001b[0m     \u001b[0mfunc\u001b[0m \u001b[0;34m=\u001b[0m \u001b[0mself\u001b[0m\u001b[0;34m.\u001b[0m\u001b[0m_select_training_loop\u001b[0m\u001b[0;34m(\u001b[0m\u001b[0mx\u001b[0m\u001b[0;34m)\u001b[0m\u001b[0;34m\u001b[0m\u001b[0;34m\u001b[0m\u001b[0m\n\u001b[0;32m--> 789\u001b[0;31m     return func.fit(\n\u001b[0m\u001b[1;32m    790\u001b[0m         \u001b[0mself\u001b[0m\u001b[0;34m,\u001b[0m\u001b[0;34m\u001b[0m\u001b[0;34m\u001b[0m\u001b[0m\n\u001b[1;32m    791\u001b[0m         \u001b[0mx\u001b[0m\u001b[0;34m=\u001b[0m\u001b[0mx\u001b[0m\u001b[0;34m,\u001b[0m\u001b[0;34m\u001b[0m\u001b[0;34m\u001b[0m\u001b[0m\n",
      "\u001b[0;32m~/tensorflow/lib/python3.8/site-packages/tensorflow/python/keras/engine/training_arrays_v1.py\u001b[0m in \u001b[0;36mfit\u001b[0;34m(self, model, x, y, batch_size, epochs, verbose, callbacks, validation_split, validation_data, shuffle, class_weight, sample_weight, initial_epoch, steps_per_epoch, validation_steps, validation_freq, **kwargs)\u001b[0m\n\u001b[1;32m    641\u001b[0m     \u001b[0;32melse\u001b[0m\u001b[0;34m:\u001b[0m\u001b[0;34m\u001b[0m\u001b[0;34m\u001b[0m\u001b[0m\n\u001b[1;32m    642\u001b[0m       \u001b[0;32mif\u001b[0m \u001b[0mvalidation_steps\u001b[0m\u001b[0;34m:\u001b[0m\u001b[0;34m\u001b[0m\u001b[0;34m\u001b[0m\u001b[0m\n\u001b[0;32m--> 643\u001b[0;31m         raise ValueError('`validation_steps` should not be specified if '\n\u001b[0m\u001b[1;32m    644\u001b[0m                          '`validation_data` is None.')\n\u001b[1;32m    645\u001b[0m       \u001b[0mval_x\u001b[0m\u001b[0;34m,\u001b[0m \u001b[0mval_y\u001b[0m\u001b[0;34m,\u001b[0m \u001b[0mval_sample_weights\u001b[0m \u001b[0;34m=\u001b[0m \u001b[0;32mNone\u001b[0m\u001b[0;34m,\u001b[0m \u001b[0;32mNone\u001b[0m\u001b[0;34m,\u001b[0m \u001b[0;32mNone\u001b[0m\u001b[0;34m\u001b[0m\u001b[0;34m\u001b[0m\u001b[0m\n",
      "\u001b[0;31mValueError\u001b[0m: `validation_steps` should not be specified if `validation_data` is None."
     ]
    }
   ],
   "source": [
    "\n",
    "\n",
    "params={\"max_seq_len\" : train_input.shape[1],\n",
    "        \"layer_width1\" : 64,\n",
    "        \"dropout1\" : 0.2,\n",
    "        \"layer_width2\" : 32,\n",
    "        \"dropout2\" : 0.2}\n",
    "\n",
    "max_seq_len = params[\"max_seq_len\"]\n",
    "inputs = Input(shape = (max_seq_len,), dtype='int64', name='inputs')\n",
    "masks  = Input(shape = (max_seq_len,), dtype='int64', name='masks')\n",
    "\n",
    "\n",
    "x = tf.keras.Input(shape=X_train.shape[0], dtype='int64')\n",
    "xlnetPretrainedModel = TFAutoModel.from_pretrained(\"xlnet-base-cased\")\n",
    "output = xlnetPretrainedModel(inputs, masks)\n",
    "\n",
    "last_hidden_state = output.last_hidden_state\n",
    "cls_token = last_hidden_state[:, 0, :]\n",
    "\n",
    "x = xlnetPretrainedModel(x)\n",
    "\n",
    "x = tf.keras.layers.Dense(1, activation='relu')(cls_token)\n",
    "model = tf.keras.Model(inputs=[inputs, masks],outputs=x)\n",
    "model.compile(optimizer='adam', loss='mean_squared_error')\n",
    "model.summary()\n",
    "\n",
    "model, history = train_model(model, train_model_inputs_and_masks, val_model_inputs_and_masks, train_y, val_y, batch_size=20, num_epochs=7)\n"
   ]
  },
  {
   "cell_type": "code",
   "execution_count": null,
   "metadata": {},
   "outputs": [],
   "source": []
  }
 ],
 "metadata": {
  "accelerator": "GPU",
  "colab": {
   "collapsed_sections": [],
   "name": "Kiva_Transfer_Learning.ipynb",
   "provenance": [
    {
     "file_id": "1Zid4WaBD5tSB1yBvdenqVmbs6O0FiK63",
     "timestamp": 1617937111348
    },
    {
     "file_id": "1ZwtvQp4tLOrgcL3qs95PH6hw6whnjcVc",
     "timestamp": 1615757603899
    },
    {
     "file_id": "19HwcejHEIfWg1nzD-81D_hBzHAqG50rZ",
     "timestamp": 1613453034431
    }
   ],
   "toc_visible": true
  },
  "kernelspec": {
   "display_name": "Python 3",
   "language": "python",
   "name": "python3"
  },
  "language_info": {
   "codemirror_mode": {
    "name": "ipython",
    "version": 3
   },
   "file_extension": ".py",
   "mimetype": "text/x-python",
   "name": "python",
   "nbconvert_exporter": "python",
   "pygments_lexer": "ipython3",
   "version": "3.8.9"
  },
  "metadata": {
   "interpreter": {
    "hash": "7812ea015bdcee6f23a998adcdd2ef97c151c0c241b7b7070987d9313e41299d"
   }
  }
 },
 "nbformat": 4,
 "nbformat_minor": 4
}
